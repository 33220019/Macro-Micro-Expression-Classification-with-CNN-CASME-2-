{
  "nbformat": 4,
  "nbformat_minor": 0,
  "metadata": {
    "colab": {
      "name": "CASME^2.ipynb",
      "provenance": [],
      "collapsed_sections": [],
      "include_colab_link": true
    },
    "kernelspec": {
      "name": "python3",
      "display_name": "Python 3"
    },
    "language_info": {
      "name": "python"
    },
    "accelerator": "GPU",
    "gpuClass": "standard"
  },
  "cells": [
    {
      "cell_type": "markdown",
      "metadata": {
        "id": "view-in-github",
        "colab_type": "text"
      },
      "source": [
        "<a href=\"https://colab.research.google.com/github/wahyumulyautama/Macro-Micro-Expression-Classification-with-CNN-CASME-2-/blob/master/MacroandMicroExpCNN.ipynb\" target=\"_parent\"><img src=\"https://colab.research.google.com/assets/colab-badge.svg\" alt=\"Open In Colab\"/></a>"
      ]
    },
    {
      "cell_type": "code",
      "execution_count": 4,
      "metadata": {
        "id": "ee7TpByMqvz3"
      },
      "outputs": [],
      "source": [
        "import os\n",
        "import cv2\n",
        "import numpy\n",
        "import numpy as np\n",
        "import imageio\n",
        "import pickle\n",
        "import matplotlib.pyplot as plt\n",
        "import dlib\n",
        "from tensorflow.keras import regularizers\n",
        "from keras.preprocessing.image import ImageDataGenerator\n",
        "from tensorflow.keras.optimizers import Adam, SGD\n",
        "from sklearn.metrics import confusion_matrix\n",
        "from keras.models import Sequential\n",
        "from keras.layers import Dense, GRU, Flatten, TimeDistributed, Flatten, BatchNormalization, Activation, Dropout\n",
        "from tensorflow.keras.layers import Dropout, Activation, Dense, Flatten, Conv3D, MaxPooling3D\n",
        "from tensorflow.keras.layers import InputLayer\n",
        "from keras.callbacks import ModelCheckpoint\n",
        "from keras.utils import np_utils, generic_utils\n",
        "from sklearn.model_selection import train_test_split\n",
        "from keras import backend as K\n",
        "import sys\n",
        "from keras import backend\n",
        "backend.set_image_data_format('channels_first')\n"
      ]
    },
    {
      "cell_type": "markdown",
      "source": [
        "**LINK TO GOOGLE DRIVE**"
      ],
      "metadata": {
        "id": "KmWCYAJWhj0q"
      }
    },
    {
      "cell_type": "code",
      "source": [
        "from google.colab import drive\n",
        "drive.mount('/content/drive')"
      ],
      "metadata": {
        "colab": {
          "base_uri": "https://localhost:8080/"
        },
        "id": "AzLQu-NsX60z",
        "outputId": "fb80d2d9-686c-43dc-87ed-5b1ab6157430"
      },
      "execution_count": 5,
      "outputs": [
        {
          "output_type": "stream",
          "name": "stdout",
          "text": [
            "Mounted at /content/drive\n"
          ]
        }
      ]
    },
    {
      "cell_type": "markdown",
      "source": [
        "**FRAME SIZE AND DEPTH**"
      ],
      "metadata": {
        "id": "tnay5os6hovk"
      }
    },
    {
      "cell_type": "code",
      "source": [
        "image_rows, image_columns, image_depth = 64,64,96"
      ],
      "metadata": {
        "id": "y0gdT7nVaX8D"
      },
      "execution_count": 6,
      "outputs": []
    },
    {
      "cell_type": "markdown",
      "source": [
        "**TRAINING LIST**"
      ],
      "metadata": {
        "id": "3x24PloYhvQM"
      }
    },
    {
      "cell_type": "code",
      "source": [
        "training_list = []"
      ],
      "metadata": {
        "id": "9WRdYnzZbJGR"
      },
      "execution_count": 7,
      "outputs": []
    },
    {
      "cell_type": "code",
      "source": [
        "angrypath = '/content/drive/MyDrive/TA/Dataset/video/angry/'\n",
        "happypath = '/content/drive/MyDrive/TA/Dataset/video/happy/'\n",
        "disgustpath = '/content/drive/MyDrive/TA/Dataset/video/disgust/'"
      ],
      "metadata": {
        "id": "Mu__NRfRbR1h"
      },
      "execution_count": 8,
      "outputs": []
    },
    {
      "cell_type": "markdown",
      "source": [
        "**SHAPE PREDICTOR MODEL**"
      ],
      "metadata": {
        "id": "6p-6Gq-phy6P"
      }
    },
    {
      "cell_type": "code",
      "source": [
        "predictor_model = '/content/drive/MyDrive/TA/Landmark/shape_predictor_68_face_landmarks.dat'\n",
        "face_detector = dlib.get_frontal_face_detector()\n",
        "face_pose_predictor = dlib.shape_predictor(predictor_model)"
      ],
      "metadata": {
        "id": "MgxIj9eabuGJ"
      },
      "execution_count": 9,
      "outputs": []
    },
    {
      "cell_type": "markdown",
      "source": [
        "**DIRECTORY LISTING DATASET** \n",
        "\n"
      ],
      "metadata": {
        "id": "51A44HLMhNMi"
      }
    },
    {
      "cell_type": "code",
      "source": [
        "directorylisting = os.listdir(angrypath)\n",
        "for video in directorylisting:\n",
        "  frames = []\n",
        "  videopath = angrypath + video\n",
        "  print ('Done ->' + video)\n",
        "  loadedvideo = imageio.get_reader(videopath, 'ffmpeg')\n",
        "  framerange = [x +72 for x in range (96)]\n",
        "  for frame in framerange: \n",
        "    images = loadedvideo.get_data(frame)\n",
        "    detected_faces = face_detector(images) #Jalankan HOG face detector pada data frame\n",
        "    for face_rect in detected_faces : #Pergunakan frame pertama sebagai frame referensi\n",
        "      face_top = face_rect.top()\n",
        "      face_bottom = face_rect.bottom()\n",
        "      face_left = face_rect.left()\n",
        "      face_right = face_rect.right()\n",
        "      face = images[face_top:face_bottom, face_left:face_right] #Potong daerah wajah\n",
        "    imageresize = cv2.resize(face, (image_rows,image_columns), interpolation = cv2.INTER_AREA)\n",
        "    grayimage = cv2.cvtColor(imageresize, cv2.COLOR_BGR2GRAY)\n",
        "    frames.append(grayimage)\n",
        "  frames = numpy.asarray(frames)\n",
        "  videoarray = numpy.rollaxis(numpy.rollaxis(frames, 2, 0), 2, 0)\n",
        "  training_list.append(videoarray)\n",
        "  print('All Done')\n"
      ],
      "metadata": {
        "id": "9R6mTEFjcepR",
        "colab": {
          "base_uri": "https://localhost:8080/"
        },
        "outputId": "a0c05b13-2f6a-40f2-9667-69cfd49f0ca8"
      },
      "execution_count": 10,
      "outputs": [
        {
          "output_type": "stream",
          "name": "stdout",
          "text": [
            "Done ->15_0402beatingpregnantwoman.avi\n",
            "All Done\n",
            "Done ->15_0401girlcrashing.avi\n",
            "All Done\n",
            "Done ->16_0402beatingpregnantwoman.avi\n",
            "All Done\n",
            "Done ->16_0401girlcrashing.avi\n",
            "All Done\n",
            "Done ->19_0402beatingpregnantwoman.avi\n",
            "All Done\n",
            "Done ->21_0401girlcrashing.avi\n",
            "All Done\n",
            "Done ->22_0402beatingpregnantwoman.avi\n",
            "All Done\n",
            "Done ->23_0402beatingpregnantwoman.avi\n",
            "All Done\n",
            "Done ->24_0401girlcrashing.avi\n",
            "All Done\n",
            "Done ->24_0402beatingpregnantwoman.avi\n",
            "All Done\n",
            "Done ->26_0401girlcrashing.avi\n",
            "All Done\n",
            "Done ->27_0401girlcrashing.avi\n",
            "All Done\n",
            "Done ->27_0402beatingpregnantwoman.avi\n",
            "All Done\n",
            "Done ->30_0401girlcrashing.avi\n",
            "All Done\n",
            "Done ->31_0402beatingpregnantwoman.avi\n",
            "All Done\n",
            "Done ->31_0401girlcrashing.avi\n",
            "All Done\n",
            "Done ->32_0401girlcrashing.avi\n",
            "All Done\n",
            "Done ->32_0402beatingpregnantwoman.avi\n",
            "All Done\n",
            "Done ->33_0402beatingpregnantwoman.avi\n",
            "All Done\n",
            "Done ->34_0402beatingpregnantwoman.avi\n",
            "All Done\n",
            "Done ->34_0401girlcrashing.avi\n",
            "All Done\n",
            "Done ->36_0401girlcrashing.avi\n",
            "All Done\n",
            "Done ->37_0402beatingpregnantwoman.avi\n",
            "All Done\n"
          ]
        }
      ]
    },
    {
      "cell_type": "code",
      "source": [
        "directorylisting = os.listdir(happypath)\n",
        "for video in directorylisting:\n",
        "  frames = []\n",
        "  videopath = happypath + video\n",
        "  print ('Done ->' + video)\n",
        "  loadedvideo = imageio.get_reader(videopath, 'ffmpeg')\n",
        "  framerange = [x + 72 for x in range(96)]\n",
        "  for frame in framerange: \n",
        "    images = loadedvideo.get_data(frame)\n",
        "    detected_faces = face_detector(images) #Jalankan HOG face detector pada data frame\n",
        "    for face_rect in detected_faces : #Pergunakan frame pertama sebagai frame referensi\n",
        "      face_top = face_rect.top()\n",
        "      face_bottom = face_rect.bottom()\n",
        "      face_left = face_rect.left()\n",
        "      face_right = face_rect.right()\n",
        "      face = images[face_top:face_bottom, face_left:face_right] #Potong daerah wajah\n",
        "    imageresize = cv2.resize(face, (image_rows,image_columns), interpolation = cv2.INTER_AREA)\n",
        "    grayimage = cv2.cvtColor(imageresize, cv2.COLOR_BGR2GRAY)\n",
        "    frames.append(grayimage)\n",
        "  frames = numpy.asarray(frames)\n",
        "  videoarray = numpy.rollaxis(numpy.rollaxis(frames, 2, 0), 2, 0)\n",
        "  training_list.append(videoarray)\n",
        "  print('All Done')\n"
      ],
      "metadata": {
        "id": "Ldi7CByXgbep",
        "colab": {
          "base_uri": "https://localhost:8080/"
        },
        "outputId": "91098eec-df51-4c6b-82de-3f9c4640e5e0"
      },
      "execution_count": 11,
      "outputs": [
        {
          "output_type": "stream",
          "name": "stdout",
          "text": [
            "Done ->15_0503unnyfarting.avi\n",
            "All Done\n",
            "Done ->15_0505funnyinnovations.avi\n",
            "All Done\n",
            "Done ->15_0502funnyerrors.avi\n",
            "All Done\n",
            "Done ->16_0507climbingthewall.avi\n",
            "All Done\n",
            "Done ->16_0505funnyinnovations.avi\n",
            "All Done\n",
            "Done ->16_0502funnyerrors.avi\n",
            "All Done\n",
            "Done ->19_0505funnyinnovations.avi\n",
            "All Done\n",
            "Done ->19_0507climbingthewall.avi\n",
            "All Done\n",
            "Done ->20_0502funnyerrors.avi\n",
            "All Done\n",
            "Done ->22_0508funnydunkey.avi\n",
            "All Done\n",
            "Done ->22_0503unnyfarting.avi\n",
            "All Done\n",
            "Done ->23_0503unnyfarting.avi\n",
            "All Done\n",
            "Done ->23_0502funnyerrors.avi\n",
            "All Done\n",
            "Done ->23_0507climbingthewall.avi\n",
            "All Done\n",
            "Done ->24_0507climbingthewall.avi\n",
            "All Done\n",
            "Done ->24_0502funnyerrors.avi\n",
            "All Done\n",
            "Done ->25_0508funnydunkey.avi\n",
            "All Done\n",
            "Done ->25_0502funnyerrors.avi\n",
            "All Done\n",
            "Done ->26_0503unnyfarting.avi\n",
            "All Done\n",
            "Done ->27_0503unnyfarting.avi\n",
            "All Done\n",
            "Done ->27_0502funnyerrors.avi\n",
            "All Done\n",
            "Done ->27_0505funnyinnovations.avi\n",
            "All Done\n",
            "Done ->27_0507climbingthewall.avi\n",
            "All Done\n",
            "Done ->27_0508funnydunkey.avi\n",
            "All Done\n",
            "Done ->29_0502funnyerrors.avi\n",
            "All Done\n",
            "Done ->30_0505funnyinnovations.avi\n",
            "All Done\n",
            "Done ->30_0507climbingthewall.avi\n",
            "All Done\n",
            "Done ->30_0503unnyfarting.avi\n",
            "All Done\n",
            "Done ->30_0502funnyerrors.avi\n",
            "All Done\n",
            "Done ->31_0503unnyfarting.avi\n",
            "All Done\n",
            "Done ->31_0505funnyinnovations.avi\n",
            "All Done\n",
            "Done ->31_0507climbingthewall.avi\n",
            "All Done\n",
            "Done ->31_0502funnyerrors.avi\n",
            "All Done\n",
            "Done ->32_0503unnyfarting.avi\n",
            "All Done\n",
            "Done ->32_0502funnyerrors.avi\n",
            "All Done\n",
            "Done ->32_0508funnydunkey.avi\n",
            "All Done\n",
            "Done ->32_0505funnyinnovations.avi\n",
            "All Done\n",
            "Done ->32_0507climbingthewall.avi\n",
            "All Done\n",
            "Done ->34_0503unnyfarting.avi\n",
            "All Done\n",
            "Done ->36_0505funnyinnovations.avi\n",
            "All Done\n",
            "Done ->37_0508funnydunkey.avi\n",
            "All Done\n",
            "Done ->37_0505funnyinnovations.avi\n",
            "All Done\n",
            "Done ->37_0507climbingthewall.avi\n",
            "All Done\n",
            "Done ->37_0502funnyerrors.avi\n",
            "All Done\n",
            "Done ->38_0502funnyerrors.avi\n",
            "All Done\n",
            "Done ->38_0507climbingthewall.avi\n",
            "All Done\n",
            "Done ->40_0503unnyfarting.avi\n",
            "All Done\n",
            "Done ->40_0502funnyerrors.avi\n",
            "All Done\n",
            "Done ->15_0508funnydunkey.avi\n",
            "All Done\n"
          ]
        }
      ]
    },
    {
      "cell_type": "code",
      "source": [
        "directorylisting = os.listdir(disgustpath)\n",
        "for video in directorylisting:\n",
        "  frames = []\n",
        "  videopath = disgustpath + video\n",
        "  print ('Done ->' + video)\n",
        "  loadedvideo = imageio.get_reader(videopath, 'ffmpeg')\n",
        "  framerange = [x +72 for x in range (96)]\n",
        "  for frame in framerange: \n",
        "    images = loadedvideo.get_data(frame)\n",
        "    detected_faces = face_detector(images) #Jalankan HOG face detector pada data frame\n",
        "    for face_rect in detected_faces : #Pergunakan frame pertama sebagai frame referensi\n",
        "      face_top = face_rect.top()\n",
        "      face_bottom = face_rect.bottom()\n",
        "      face_left = face_rect.left()\n",
        "      face_right = face_rect.right()\n",
        "      face = images[face_top:face_bottom, face_left:face_right] #Potong daerah wajah\n",
        "    imageresize = cv2.resize(face, (image_rows,image_columns), interpolation = cv2.INTER_AREA)\n",
        "    grayimage = cv2.cvtColor(imageresize, cv2.COLOR_BGR2GRAY)\n",
        "    frames.append(grayimage)\n",
        "  frames = numpy.asarray(frames)\n",
        "  videoarray = numpy.rollaxis(numpy.rollaxis(frames, 2, 0), 2, 0)\n",
        "  training_list.append(videoarray)\n",
        "  print('All Done')\n"
      ],
      "metadata": {
        "id": "CEFZh2zmhDHa",
        "colab": {
          "base_uri": "https://localhost:8080/"
        },
        "outputId": "802b227e-3681-43db-a390-0679f04840ce"
      },
      "execution_count": 12,
      "outputs": [
        {
          "output_type": "stream",
          "name": "stdout",
          "text": [
            "Done ->15_0101disgustingteeth.avi\n",
            "All Done\n",
            "Done ->15_0102eatingworms.avi\n",
            "All Done\n",
            "Done ->16_0102eatingworms.avi\n",
            "All Done\n",
            "Done ->16_0101disgustingteeth.avi\n",
            "All Done\n",
            "Done ->19_0102eatingworms.avi\n",
            "All Done\n",
            "Done ->21_0101disgustingteeth.avi\n",
            "All Done\n",
            "Done ->22_0102eatingworms.avi\n",
            "All Done\n",
            "Done ->22_0101disgustingteeth.avi\n",
            "All Done\n",
            "Done ->23_0102eatingworms.avi\n",
            "All Done\n",
            "Done ->24_0101disgustingteeth.avi\n",
            "All Done\n",
            "Done ->25_0102eatingworms.avi\n",
            "All Done\n",
            "Done ->25_0101disgustingteeth.avi\n",
            "All Done\n",
            "Done ->26_0101disgustingteeth.avi\n",
            "All Done\n",
            "Done ->26_0102eatingworms.avi\n",
            "All Done\n",
            "Done ->27_0102eatingworms.avi\n",
            "All Done\n",
            "Done ->27_0101disgustingteeth.avi\n",
            "All Done\n",
            "Done ->30_0102eatingworms.avi\n",
            "All Done\n",
            "Done ->30_0101disgustingteeth.avi\n",
            "All Done\n",
            "Done ->31_0101disgustingteeth.avi\n",
            "All Done\n",
            "Done ->32_0101disgustingteeth.avi\n",
            "All Done\n",
            "Done ->32_0102eatingworms.avi\n",
            "All Done\n",
            "Done ->33_0102eatingworms.avi\n",
            "All Done\n",
            "Done ->35_0102eatingworms.avi\n",
            "All Done\n",
            "Done ->37_0101disgustingteeth.avi\n",
            "All Done\n"
          ]
        }
      ]
    },
    {
      "cell_type": "code",
      "source": [
        "plt.imshow(grayimage)\n",
        "plt.title(\"Optical Flow\")\n",
        "plt.show()"
      ],
      "metadata": {
        "id": "qXv81GGtiD45",
        "colab": {
          "base_uri": "https://localhost:8080/",
          "height": 281
        },
        "outputId": "b3d4ed80-0baa-4802-d675-d697e1324f8e"
      },
      "execution_count": 13,
      "outputs": [
        {
          "output_type": "display_data",
          "data": {
            "text/plain": [
              "<Figure size 432x288 with 1 Axes>"
            ],
            "image/png": "[encoded data removed]"
          },
          "metadata": {
            "needs_background": "light"
          }
        }
      ]
    },
    {
      "cell_type": "markdown",
      "source": [
        "**MENYIMPAN HASIL PEMROSESAN KE DALAM PKL FILE**"
      ],
      "metadata": {
        "id": "IZJR7H4flfvP"
      }
    },
    {
      "cell_type": "code",
      "source": [
        "#Membuat direktori baru untuk 'pkl_File'\n",
        "dir_crop = '/content/drive/MyDrive/TA/pkl File Proc3/'\n",
        "if os.path.exists(dir_crop)==False:\n",
        "  os.mkdir(dir_crop)"
      ],
      "metadata": {
        "id": "X2-qZQnMiQZT"
      },
      "execution_count": 14,
      "outputs": []
    },
    {
      "cell_type": "code",
      "source": [
        "pickle.dump(training_list, open('/content/drive/MyDrive/TA/pkl File Proc3/' + 'training_list.pkl', 'wb') )"
      ],
      "metadata": {
        "id": "dAMEXGMimKwq"
      },
      "execution_count": 15,
      "outputs": []
    },
    {
      "cell_type": "markdown",
      "source": [
        "**MEMUAT DATASET HASIL PEMROSESAN .pkl**"
      ],
      "metadata": {
        "id": "TEmKMYG_m0Ox"
      }
    },
    {
      "cell_type": "code",
      "source": [
        "training_list = pickle.load(open('/content/drive/MyDrive/TA/pkl File Proc3/' + 'training_list.pkl', 'rb') )"
      ],
      "metadata": {
        "id": "guHU7Y69mzLZ"
      },
      "execution_count": 16,
      "outputs": []
    },
    {
      "cell_type": "markdown",
      "source": [
        "**TRAINING LIST, SAMPLE AND LABELS**"
      ],
      "metadata": {
        "id": "Mc6kkNCOnWOK"
      }
    },
    {
      "cell_type": "code",
      "source": [
        "training_list = numpy.asarray(training_list)\n",
        "training_samples = len(training_list)\n",
        "training_labels = numpy.zeros((training_samples, ), dtype = int)"
      ],
      "metadata": {
        "id": "jozOalKFneaZ"
      },
      "execution_count": 17,
      "outputs": []
    },
    {
      "cell_type": "code",
      "source": [
        "training_labels[0:24] = 0\n",
        "training_labels[24:73] = 1\n",
        "training_labels[73:97] = 2"
      ],
      "metadata": {
        "id": "nHlp-MDJn2B9"
      },
      "execution_count": 18,
      "outputs": []
    },
    {
      "cell_type": "code",
      "source": [
        "training_labels = np_utils.to_categorical(training_labels, 3)"
      ],
      "metadata": {
        "id": "97QuMTxSo3AS"
      },
      "execution_count": 19,
      "outputs": []
    },
    {
      "cell_type": "code",
      "source": [
        "training_data = [training_list, training_labels]\n",
        "(training_frames, training_labels) = (training_data[0], training_data[1])\n",
        "training_set = numpy.zeros((training_samples, 1, image_rows, image_columns, image_depth))\n",
        "for h in range(training_samples):\n",
        "  training_set[h][0][:][:][:] = training_frames[h,:,:,:]"
      ],
      "metadata": {
        "id": "nOjVx8uho-fh"
      },
      "execution_count": 20,
      "outputs": []
    },
    {
      "cell_type": "code",
      "source": [
        "training_set = training_set.astype('float32')\n",
        "training_set -= numpy.mean(training_set)\n",
        "training_set /= numpy.max(training_set) "
      ],
      "metadata": {
        "id": "zXvT5M4qqF7h"
      },
      "execution_count": 21,
      "outputs": []
    },
    {
      "cell_type": "markdown",
      "source": [
        "**SAVE TRAINING IMAGES AND LABELS IN A NUMPY ARRAY**"
      ],
      "metadata": {
        "id": "_r4loplXr_JC"
      }
    },
    {
      "cell_type": "code",
      "source": [
        "numpy.save('/content/drive/MyDrive/TA/microexpcnn_images.npy', training_set)\n",
        "numpy.save('/content/drive/MyDrive/TA/microexpcnn_labels.npy', training_labels)"
      ],
      "metadata": {
        "id": "-ZHCkLxVsEJX"
      },
      "execution_count": 22,
      "outputs": []
    },
    {
      "cell_type": "markdown",
      "source": [
        "**LOAD TRAINING IMAGES AND LABELS THAT ARE STORED IN A NUMPY ARRAY**"
      ],
      "metadata": {
        "id": "5WUz1MkEsybr"
      }
    },
    {
      "cell_type": "code",
      "source": [
        "training_set = numpy.load('/content/drive/MyDrive/TA/microexpcnn_images.npy')\n",
        "training_labels = numpy.load('/content/drive/MyDrive/TA/microexpcnn_labels.npy')"
      ],
      "metadata": {
        "id": "NLC5SGM2s642"
      },
      "execution_count": 23,
      "outputs": []
    },
    {
      "cell_type": "markdown",
      "source": [
        "**MICROEXPCNN MODEL**"
      ],
      "metadata": {
        "id": "6MtGQkuztQ-L"
      }
    },
    {
      "cell_type": "code",
      "source": [
        "model = Sequential()\n",
        "model.add(Conv3D(32, (3, 3, 15), input_shape=(1, image_rows, image_columns, image_depth), activation='relu'))\n",
        "model.add(BatchNormalization())\n",
        "model.add(MaxPooling3D(pool_size=(3, 3, 3)))\n",
        "model.add(Dropout(0.5))\n",
        "model.add(Flatten())\n",
        "model.add(Dense(64, kernel_initializer='normal', activation='relu', kernel_regularizer=regularizers.l2(0.00001)))\n",
        "model.add(BatchNormalization())\n",
        "model.add(Dense(3, kernel_initializer='normal', kernel_regularizer=regularizers.l2(0.00001)))\n",
        "model.add(Activation('softmax'))\n",
        "model.compile(loss = 'categorical_crossentropy', optimizer = Adam(learning_rate=0.0002), metrics = ['accuracy'])"
      ],
      "metadata": {
        "id": "-31bL_k9tUFW"
      },
      "execution_count": 27,
      "outputs": []
    },
    {
      "cell_type": "code",
      "source": [
        "model.summary()"
      ],
      "metadata": {
        "colab": {
          "base_uri": "https://localhost:8080/"
        },
        "id": "-tGGc4DGzoQX",
        "outputId": "c7e4541b-2f59-4b2f-f754-949c00dc7980"
      },
      "execution_count": 28,
      "outputs": [
        {
          "output_type": "stream",
          "name": "stdout",
          "text": [
            "Model: \"sequential_1\"\n",
            "_________________________________________________________________\n",
            " Layer (type)                Output Shape              Param #   \n",
            "=================================================================\n",
            " conv3d_1 (Conv3D)           (None, 32, 62, 62, 82)    4352      \n",
            "                                                                 \n",
            " batch_normalization_2 (Batc  (None, 32, 62, 62, 82)   328       \n",
            " hNormalization)                                                 \n",
            "                                                                 \n",
            " max_pooling3d_1 (MaxPooling  (None, 32, 20, 20, 27)   0         \n",
            " 3D)                                                             \n",
            "                                                                 \n",
            " dropout_1 (Dropout)         (None, 32, 20, 20, 27)    0         \n",
            "                                                                 \n",
            " flatten_1 (Flatten)         (None, 345600)            0         \n",
            "                                                                 \n",
            " dense_2 (Dense)             (None, 64)                22118464  \n",
            "                                                                 \n",
            " batch_normalization_3 (Batc  (None, 64)               256       \n",
            " hNormalization)                                                 \n",
            "                                                                 \n",
            " dense_3 (Dense)             (None, 3)                 195       \n",
            "                                                                 \n",
            " activation_1 (Activation)   (None, 3)                 0         \n",
            "                                                                 \n",
            "=================================================================\n",
            "Total params: 22,123,595\n",
            "Trainable params: 22,123,303\n",
            "Non-trainable params: 292\n",
            "_________________________________________________________________\n"
          ]
        }
      ]
    },
    {
      "cell_type": "markdown",
      "source": [
        "LOAD PRE-TRAINED WEIGHTS"
      ],
      "metadata": {
        "id": "yrnEWQp0_ebQ"
      }
    },
    {
      "cell_type": "code",
      "source": [
        "\"\"\"\"\n",
        "model.load_weights('/content/drive/MyDrive/TA/MicroExpCNN/Weights/weights-improvement-53-0.88.hdf5')"
      ],
      "metadata": {
        "id": "6Zties4Q_i22"
      },
      "execution_count": null,
      "outputs": []
    },
    {
      "cell_type": "markdown",
      "source": [
        "**WEIGHTS FILE PATH**"
      ],
      "metadata": {
        "id": "sEP-7zAP_0y8"
      }
    },
    {
      "cell_type": "code",
      "source": [
        "filepath=\"/content/drive/MyDrive/TA/microexpcnn_weights.hdf5\"\n",
        "checkpoint = ModelCheckpoint(filepath, monitor='val accuracy', verbose=1, save_best_only=True, mode='max')\n",
        "callbacks_list = [checkpoint]"
      ],
      "metadata": {
        "id": "quAYWTud_3dF"
      },
      "execution_count": 29,
      "outputs": []
    },
    {
      "cell_type": "markdown",
      "source": [
        "**SPLITTING THE DATASET INTO TRAINING AND VALIDATION SETS**"
      ],
      "metadata": {
        "id": "CEvD5qugC6fD"
      }
    },
    {
      "cell_type": "code",
      "source": [
        "train_set, validation_set, train_labels, validation_labels = train_test_split(training_set, training_labels, test_size=0.2, random_state=4, shuffle=True)"
      ],
      "metadata": {
        "id": "U3m_1qZnDAUT"
      },
      "execution_count": 30,
      "outputs": []
    },
    {
      "cell_type": "markdown",
      "source": [
        "**SAVE VALIDATION SET IN A NUMPY ARRAY**"
      ],
      "metadata": {
        "id": "6o8xTaSlDYH5"
      }
    },
    {
      "cell_type": "code",
      "source": [
        "\"\"\"\"\n",
        "numpy.save('/content/drive/MyDrive/TA/microexpcnn_val_images.npy', validation_images)\n",
        "numpy.save('/content/drive/MyDrive/TAmicroexpcnn_val_labels.npy', validation_labels)"
      ],
      "metadata": {
        "id": "rfrDFaEhDfnK"
      },
      "execution_count": null,
      "outputs": []
    },
    {
      "cell_type": "markdown",
      "source": [
        "**LOAD VALIDATION SET FROM NUMPY ARRAY**"
      ],
      "metadata": {
        "id": "aHG_9WN1D8RS"
      }
    },
    {
      "cell_type": "code",
      "source": [
        "\"\"\"\"\n",
        "validation_images = numpy.load('/content/drive/MyDrive/TA/MicroExpCNN/Data Validation/microexpcnn_val_images.npy', validation_images)\n",
        "validation_images = numpy.load('/content/drive/MyDrive/TA/MicroExpCNN/Data Validation/microexpcnn_val_labels.npy', validation_labels)"
      ],
      "metadata": {
        "id": "NAV4aih1ECCX"
      },
      "execution_count": null,
      "outputs": []
    },
    {
      "cell_type": "markdown",
      "source": [
        "**TRAINING THE MODEL**"
      ],
      "metadata": {
        "id": "0JeMOwOLEgPF"
      }
    },
    {
      "cell_type": "code",
      "source": [
        "history = model.fit(train_set, train_labels, validation_data = (validation_set, validation_labels), callbacks=callbacks_list, batch_size = 5, epochs = 50, )"
      ],
      "metadata": {
        "id": "937dYhePEi8S",
        "colab": {
          "base_uri": "https://localhost:8080/"
        },
        "outputId": "9625f15a-308e-4d95-99f2-31cc808b98df"
      },
      "execution_count": 31,
      "outputs": [
        {
          "output_type": "stream",
          "name": "stdout",
          "text": [
            "Epoch 1/50\n",
            "16/16 [==============================] - ETA: 0s - loss: 1.7115 - accuracy: 0.3816WARNING:tensorflow:Can save best model only with val accuracy available, skipping.\n",
            "16/16 [==============================] - 15s 126ms/step - loss: 1.7115 - accuracy: 0.3816 - val_loss: 1.6530 - val_accuracy: 0.2500\n",
            "Epoch 2/50\n",
            "15/16 [===========================>..] - ETA: 0s - loss: 1.5997 - accuracy: 0.4400WARNING:tensorflow:Can save best model only with val accuracy available, skipping.\n",
            "16/16 [==============================] - 1s 91ms/step - loss: 1.6002 - accuracy: 0.4474 - val_loss: 1.6577 - val_accuracy: 0.3000\n",
            "Epoch 3/50\n",
            "15/16 [===========================>..] - ETA: 0s - loss: 1.4929 - accuracy: 0.5200WARNING:tensorflow:Can save best model only with val accuracy available, skipping.\n",
            "16/16 [==============================] - 1s 93ms/step - loss: 1.4948 - accuracy: 0.5263 - val_loss: 1.6735 - val_accuracy: 0.3000\n",
            "Epoch 4/50\n",
            "15/16 [===========================>..] - ETA: 0s - loss: 1.4377 - accuracy: 0.6000WARNING:tensorflow:Can save best model only with val accuracy available, skipping.\n",
            "16/16 [==============================] - 1s 90ms/step - loss: 1.4407 - accuracy: 0.5921 - val_loss: 1.6865 - val_accuracy: 0.3000\n",
            "Epoch 5/50\n",
            "15/16 [===========================>..] - ETA: 0s - loss: 1.3626 - accuracy: 0.7467WARNING:tensorflow:Can save best model only with val accuracy available, skipping.\n",
            "16/16 [==============================] - 1s 85ms/step - loss: 1.3660 - accuracy: 0.7500 - val_loss: 1.6913 - val_accuracy: 0.3000\n",
            "Epoch 6/50\n",
            "15/16 [===========================>..] - ETA: 0s - loss: 1.3083 - accuracy: 0.7333WARNING:tensorflow:Can save best model only with val accuracy available, skipping.\n",
            "16/16 [==============================] - 1s 86ms/step - loss: 1.3131 - accuracy: 0.7237 - val_loss: 1.7283 - val_accuracy: 0.3000\n",
            "Epoch 7/50\n",
            "15/16 [===========================>..] - ETA: 0s - loss: 1.3475 - accuracy: 0.6933WARNING:tensorflow:Can save best model only with val accuracy available, skipping.\n",
            "16/16 [==============================] - 1s 86ms/step - loss: 1.3518 - accuracy: 0.6842 - val_loss: 1.7421 - val_accuracy: 0.3000\n",
            "Epoch 8/50\n",
            "15/16 [===========================>..] - ETA: 0s - loss: 1.1797 - accuracy: 0.8400WARNING:tensorflow:Can save best model only with val accuracy available, skipping.\n",
            "16/16 [==============================] - 1s 88ms/step - loss: 1.1853 - accuracy: 0.8421 - val_loss: 1.7430 - val_accuracy: 0.3000\n",
            "Epoch 9/50\n",
            "15/16 [===========================>..] - ETA: 0s - loss: 1.2361 - accuracy: 0.7467WARNING:tensorflow:Can save best model only with val accuracy available, skipping.\n",
            "16/16 [==============================] - 1s 86ms/step - loss: 1.2418 - accuracy: 0.7368 - val_loss: 1.7623 - val_accuracy: 0.3000\n",
            "Epoch 10/50\n",
            "15/16 [===========================>..] - ETA: 0s - loss: 1.2357 - accuracy: 0.7067WARNING:tensorflow:Can save best model only with val accuracy available, skipping.\n",
            "16/16 [==============================] - 1s 86ms/step - loss: 1.2414 - accuracy: 0.6974 - val_loss: 1.7701 - val_accuracy: 0.3000\n",
            "Epoch 11/50\n",
            "15/16 [===========================>..] - ETA: 0s - loss: 1.1581 - accuracy: 0.7733WARNING:tensorflow:Can save best model only with val accuracy available, skipping.\n",
            "16/16 [==============================] - 1s 86ms/step - loss: 1.1637 - accuracy: 0.7763 - val_loss: 1.7929 - val_accuracy: 0.3000\n",
            "Epoch 12/50\n",
            "15/16 [===========================>..] - ETA: 0s - loss: 1.1918 - accuracy: 0.7733WARNING:tensorflow:Can save best model only with val accuracy available, skipping.\n",
            "16/16 [==============================] - 1s 89ms/step - loss: 1.1981 - accuracy: 0.7632 - val_loss: 1.8041 - val_accuracy: 0.3000\n",
            "Epoch 13/50\n",
            "15/16 [===========================>..] - ETA: 0s - loss: 1.1387 - accuracy: 0.7600WARNING:tensorflow:Can save best model only with val accuracy available, skipping.\n",
            "16/16 [==============================] - 2s 95ms/step - loss: 1.1445 - accuracy: 0.7632 - val_loss: 1.8534 - val_accuracy: 0.3000\n",
            "Epoch 14/50\n",
            "15/16 [===========================>..] - ETA: 0s - loss: 1.0979 - accuracy: 0.8400WARNING:tensorflow:Can save best model only with val accuracy available, skipping.\n",
            "16/16 [==============================] - 1s 92ms/step - loss: 1.1059 - accuracy: 0.8289 - val_loss: 1.8426 - val_accuracy: 0.3000\n",
            "Epoch 15/50\n",
            "15/16 [===========================>..] - ETA: 0s - loss: 1.0469 - accuracy: 0.9067WARNING:tensorflow:Can save best model only with val accuracy available, skipping.\n",
            "16/16 [==============================] - 1s 86ms/step - loss: 1.0537 - accuracy: 0.9079 - val_loss: 1.8490 - val_accuracy: 0.3000\n",
            "Epoch 16/50\n",
            "15/16 [===========================>..] - ETA: 0s - loss: 0.9988 - accuracy: 0.9333WARNING:tensorflow:Can save best model only with val accuracy available, skipping.\n",
            "16/16 [==============================] - 1s 87ms/step - loss: 1.0077 - accuracy: 0.9211 - val_loss: 1.8735 - val_accuracy: 0.3000\n",
            "Epoch 17/50\n",
            "15/16 [===========================>..] - ETA: 0s - loss: 1.0626 - accuracy: 0.8267WARNING:tensorflow:Can save best model only with val accuracy available, skipping.\n",
            "16/16 [==============================] - 1s 90ms/step - loss: 1.0691 - accuracy: 0.8289 - val_loss: 1.8809 - val_accuracy: 0.3000\n",
            "Epoch 18/50\n",
            "15/16 [===========================>..] - ETA: 0s - loss: 1.0632 - accuracy: 0.8133WARNING:tensorflow:Can save best model only with val accuracy available, skipping.\n",
            "16/16 [==============================] - 1s 87ms/step - loss: 1.0719 - accuracy: 0.8026 - val_loss: 1.9064 - val_accuracy: 0.2500\n",
            "Epoch 19/50\n",
            "15/16 [===========================>..] - ETA: 0s - loss: 0.9840 - accuracy: 0.9067WARNING:tensorflow:Can save best model only with val accuracy available, skipping.\n",
            "16/16 [==============================] - 1s 87ms/step - loss: 0.9913 - accuracy: 0.9079 - val_loss: 1.9157 - val_accuracy: 0.3000\n",
            "Epoch 20/50\n",
            "15/16 [===========================>..] - ETA: 0s - loss: 0.8990 - accuracy: 0.9600WARNING:tensorflow:Can save best model only with val accuracy available, skipping.\n",
            "16/16 [==============================] - 1s 87ms/step - loss: 0.9093 - accuracy: 0.9474 - val_loss: 1.9300 - val_accuracy: 0.3000\n",
            "Epoch 21/50\n",
            "15/16 [===========================>..] - ETA: 0s - loss: 0.9794 - accuracy: 0.9200WARNING:tensorflow:Can save best model only with val accuracy available, skipping.\n",
            "16/16 [==============================] - 1s 89ms/step - loss: 0.9886 - accuracy: 0.9079 - val_loss: 2.0012 - val_accuracy: 0.2500\n",
            "Epoch 22/50\n",
            "15/16 [===========================>..] - ETA: 0s - loss: 0.8948 - accuracy: 0.9067WARNING:tensorflow:Can save best model only with val accuracy available, skipping.\n",
            "16/16 [==============================] - 1s 89ms/step - loss: 0.9059 - accuracy: 0.8947 - val_loss: 1.9938 - val_accuracy: 0.2000\n",
            "Epoch 23/50\n",
            "15/16 [===========================>..] - ETA: 0s - loss: 0.9038 - accuracy: 0.8933WARNING:tensorflow:Can save best model only with val accuracy available, skipping.\n",
            "16/16 [==============================] - 1s 89ms/step - loss: 0.9118 - accuracy: 0.8947 - val_loss: 1.9819 - val_accuracy: 0.2500\n",
            "Epoch 24/50\n",
            "15/16 [===========================>..] - ETA: 0s - loss: 0.8718 - accuracy: 0.9200WARNING:tensorflow:Can save best model only with val accuracy available, skipping.\n",
            "16/16 [==============================] - 1s 90ms/step - loss: 0.8825 - accuracy: 0.9079 - val_loss: 2.0331 - val_accuracy: 0.2500\n",
            "Epoch 25/50\n",
            "15/16 [===========================>..] - ETA: 0s - loss: 0.8410 - accuracy: 0.9200WARNING:tensorflow:Can save best model only with val accuracy available, skipping.\n",
            "16/16 [==============================] - 1s 89ms/step - loss: 0.8521 - accuracy: 0.9079 - val_loss: 2.0833 - val_accuracy: 0.2000\n",
            "Epoch 26/50\n",
            "15/16 [===========================>..] - ETA: 0s - loss: 0.8851 - accuracy: 0.9333WARNING:tensorflow:Can save best model only with val accuracy available, skipping.\n",
            "16/16 [==============================] - 1s 87ms/step - loss: 0.8930 - accuracy: 0.9342 - val_loss: 2.1096 - val_accuracy: 0.2000\n",
            "Epoch 27/50\n",
            "15/16 [===========================>..] - ETA: 0s - loss: 0.9181 - accuracy: 0.8667WARNING:tensorflow:Can save best model only with val accuracy available, skipping.\n",
            "16/16 [==============================] - 1s 86ms/step - loss: 0.9255 - accuracy: 0.8684 - val_loss: 2.1186 - val_accuracy: 0.1500\n",
            "Epoch 28/50\n",
            "15/16 [===========================>..] - ETA: 0s - loss: 0.8816 - accuracy: 0.9200WARNING:tensorflow:Can save best model only with val accuracy available, skipping.\n",
            "16/16 [==============================] - 1s 87ms/step - loss: 0.8934 - accuracy: 0.9079 - val_loss: 2.0678 - val_accuracy: 0.2000\n",
            "Epoch 29/50\n",
            "15/16 [===========================>..] - ETA: 0s - loss: 0.8605 - accuracy: 0.9467WARNING:tensorflow:Can save best model only with val accuracy available, skipping.\n",
            "16/16 [==============================] - 1s 87ms/step - loss: 0.8685 - accuracy: 0.9474 - val_loss: 2.1084 - val_accuracy: 0.2000\n",
            "Epoch 30/50\n",
            "15/16 [===========================>..] - ETA: 0s - loss: 0.8381 - accuracy: 0.9067WARNING:tensorflow:Can save best model only with val accuracy available, skipping.\n",
            "16/16 [==============================] - 1s 86ms/step - loss: 0.8494 - accuracy: 0.8947 - val_loss: 2.0988 - val_accuracy: 0.2500\n",
            "Epoch 31/50\n",
            "15/16 [===========================>..] - ETA: 0s - loss: 0.8315 - accuracy: 0.9200WARNING:tensorflow:Can save best model only with val accuracy available, skipping.\n",
            "16/16 [==============================] - 1s 88ms/step - loss: 0.8398 - accuracy: 0.9211 - val_loss: 2.2114 - val_accuracy: 0.2000\n",
            "Epoch 32/50\n",
            "15/16 [===========================>..] - ETA: 0s - loss: 0.9100 - accuracy: 0.8933WARNING:tensorflow:Can save best model only with val accuracy available, skipping.\n",
            "16/16 [==============================] - 1s 87ms/step - loss: 0.9205 - accuracy: 0.8816 - val_loss: 2.2004 - val_accuracy: 0.2500\n",
            "Epoch 33/50\n",
            "15/16 [===========================>..] - ETA: 0s - loss: 0.8491 - accuracy: 0.9600WARNING:tensorflow:Can save best model only with val accuracy available, skipping.\n",
            "16/16 [==============================] - 1s 88ms/step - loss: 0.8616 - accuracy: 0.9474 - val_loss: 2.2136 - val_accuracy: 0.2000\n",
            "Epoch 34/50\n",
            "15/16 [===========================>..] - ETA: 0s - loss: 0.8728 - accuracy: 0.9200WARNING:tensorflow:Can save best model only with val accuracy available, skipping.\n",
            "16/16 [==============================] - 1s 87ms/step - loss: 0.8803 - accuracy: 0.9211 - val_loss: 2.1942 - val_accuracy: 0.2500\n",
            "Epoch 35/50\n",
            "15/16 [===========================>..] - ETA: 0s - loss: 0.7308 - accuracy: 0.9600WARNING:tensorflow:Can save best model only with val accuracy available, skipping.\n",
            "16/16 [==============================] - 1s 88ms/step - loss: 0.7401 - accuracy: 0.9605 - val_loss: 2.1875 - val_accuracy: 0.4000\n",
            "Epoch 36/50\n",
            "15/16 [===========================>..] - ETA: 0s - loss: 0.7470 - accuracy: 0.9600WARNING:tensorflow:Can save best model only with val accuracy available, skipping.\n",
            "16/16 [==============================] - 1s 88ms/step - loss: 0.7559 - accuracy: 0.9605 - val_loss: 2.2338 - val_accuracy: 0.3500\n",
            "Epoch 37/50\n",
            "15/16 [===========================>..] - ETA: 0s - loss: 0.7524 - accuracy: 0.9333WARNING:tensorflow:Can save best model only with val accuracy available, skipping.\n",
            "16/16 [==============================] - 1s 89ms/step - loss: 0.7651 - accuracy: 0.9211 - val_loss: 2.3477 - val_accuracy: 0.3000\n",
            "Epoch 38/50\n",
            "15/16 [===========================>..] - ETA: 0s - loss: 0.7935 - accuracy: 0.9333WARNING:tensorflow:Can save best model only with val accuracy available, skipping.\n",
            "16/16 [==============================] - 1s 88ms/step - loss: 0.8017 - accuracy: 0.9342 - val_loss: 2.4998 - val_accuracy: 0.3000\n",
            "Epoch 39/50\n",
            "15/16 [===========================>..] - ETA: 0s - loss: 0.7661 - accuracy: 0.9467WARNING:tensorflow:Can save best model only with val accuracy available, skipping.\n",
            "16/16 [==============================] - 1s 88ms/step - loss: 0.7745 - accuracy: 0.9474 - val_loss: 2.4454 - val_accuracy: 0.3500\n",
            "Epoch 40/50\n",
            "15/16 [===========================>..] - ETA: 0s - loss: 0.7409 - accuracy: 0.9467WARNING:tensorflow:Can save best model only with val accuracy available, skipping.\n",
            "16/16 [==============================] - 1s 87ms/step - loss: 0.7553 - accuracy: 0.9342 - val_loss: 2.3545 - val_accuracy: 0.4000\n",
            "Epoch 41/50\n",
            "15/16 [===========================>..] - ETA: 0s - loss: 0.7733 - accuracy: 0.9200WARNING:tensorflow:Can save best model only with val accuracy available, skipping.\n",
            "16/16 [==============================] - 1s 90ms/step - loss: 0.7815 - accuracy: 0.9211 - val_loss: 2.4040 - val_accuracy: 0.3500\n",
            "Epoch 42/50\n",
            "15/16 [===========================>..] - ETA: 0s - loss: 0.8004 - accuracy: 0.9467WARNING:tensorflow:Can save best model only with val accuracy available, skipping.\n",
            "16/16 [==============================] - 1s 88ms/step - loss: 0.8081 - accuracy: 0.9474 - val_loss: 2.3978 - val_accuracy: 0.3500\n",
            "Epoch 43/50\n",
            "15/16 [===========================>..] - ETA: 0s - loss: 0.7680 - accuracy: 0.9600WARNING:tensorflow:Can save best model only with val accuracy available, skipping.\n",
            "16/16 [==============================] - 1s 88ms/step - loss: 0.7823 - accuracy: 0.9474 - val_loss: 2.3775 - val_accuracy: 0.3500\n",
            "Epoch 44/50\n",
            "15/16 [===========================>..] - ETA: 0s - loss: 0.7584 - accuracy: 0.9600WARNING:tensorflow:Can save best model only with val accuracy available, skipping.\n",
            "16/16 [==============================] - 1s 87ms/step - loss: 0.7728 - accuracy: 0.9474 - val_loss: 2.3878 - val_accuracy: 0.3500\n",
            "Epoch 45/50\n",
            "15/16 [===========================>..] - ETA: 0s - loss: 0.7616 - accuracy: 0.9333WARNING:tensorflow:Can save best model only with val accuracy available, skipping.\n",
            "16/16 [==============================] - 1s 88ms/step - loss: 0.7697 - accuracy: 0.9342 - val_loss: 2.4704 - val_accuracy: 0.2500\n",
            "Epoch 46/50\n",
            "15/16 [===========================>..] - ETA: 0s - loss: 0.7320 - accuracy: 0.9733WARNING:tensorflow:Can save best model only with val accuracy available, skipping.\n",
            "16/16 [==============================] - 1s 90ms/step - loss: 0.7469 - accuracy: 0.9605 - val_loss: 2.4841 - val_accuracy: 0.3000\n",
            "Epoch 47/50\n",
            "15/16 [===========================>..] - ETA: 0s - loss: 0.7557 - accuracy: 0.9333WARNING:tensorflow:Can save best model only with val accuracy available, skipping.\n",
            "16/16 [==============================] - 1s 88ms/step - loss: 0.7702 - accuracy: 0.9211 - val_loss: 2.4666 - val_accuracy: 0.3000\n",
            "Epoch 48/50\n",
            "15/16 [===========================>..] - ETA: 0s - loss: 0.7687 - accuracy: 0.9467WARNING:tensorflow:Can save best model only with val accuracy available, skipping.\n",
            "16/16 [==============================] - 1s 90ms/step - loss: 0.7831 - accuracy: 0.9342 - val_loss: 2.4329 - val_accuracy: 0.3500\n",
            "Epoch 49/50\n",
            "15/16 [===========================>..] - ETA: 0s - loss: 0.7371 - accuracy: 0.9600WARNING:tensorflow:Can save best model only with val accuracy available, skipping.\n",
            "16/16 [==============================] - 1s 88ms/step - loss: 0.7505 - accuracy: 0.9474 - val_loss: 2.4722 - val_accuracy: 0.3500\n",
            "Epoch 50/50\n",
            "15/16 [===========================>..] - ETA: 0s - loss: 0.7306 - accuracy: 0.9467WARNING:tensorflow:Can save best model only with val accuracy available, skipping.\n",
            "16/16 [==============================] - 1s 88ms/step - loss: 0.7456 - accuracy: 0.9342 - val_loss: 2.5533 - val_accuracy: 0.4000\n"
          ]
        }
      ]
    },
    {
      "cell_type": "markdown",
      "source": [
        "**AVERAGE OF ACCURACY**"
      ],
      "metadata": {
        "id": "2Dq7I5pcFMMO"
      }
    },
    {
      "cell_type": "code",
      "source": [
        "print('Average of Accuracy :', \"%.2f\" % np.mean(history.history['accuracy']))"
      ],
      "metadata": {
        "id": "sTj8Et7GFOeh",
        "colab": {
          "base_uri": "https://localhost:8080/"
        },
        "outputId": "4e84c370-ed85-4c1c-b936-d1cc713dfcbe"
      },
      "execution_count": 32,
      "outputs": [
        {
          "output_type": "stream",
          "name": "stdout",
          "text": [
            "Average of Accuracy : 0.85\n"
          ]
        }
      ]
    },
    {
      "cell_type": "code",
      "source": [
        "plt.ion()\n",
        "fig = plt.figure()\n",
        "subfig = fig.add_subplot(1,2,1)\n",
        "subfig.plot(history.history['accuracy'], label=\"training\")\n",
        "if history.history['val_accuracy'] is not None:\n",
        "    subfig.plot(history.history['val_accuracy'], label=\"validation\")\n",
        "subfig.set_title('Model Accuracy')\n",
        "subfig.set_xlabel('Epoch')\n",
        "subfig.legend(loc='upper left')\n",
        "subfig = fig.add_subplot(1,2,2)\n",
        "subfig.plot(history.history['loss'], label=\"training\")\n",
        "if history.history['val_loss'] is not None:\n",
        "    subfig.plot(history.history['val_loss'], label=\"validation\")\n",
        "subfig.set_title('Model Loss')\n",
        "subfig.set_xlabel('Epoch')\n",
        "subfig.legend(loc='upper left')\n",
        "plt.ioff()\n",
        "\n",
        "#masih overfitting"
      ],
      "metadata": {
        "id": "4-dVSq3NFeh5",
        "colab": {
          "base_uri": "https://localhost:8080/",
          "height": 295
        },
        "outputId": "3ace1bfe-b1a7-414c-9fba-7dab1c564d99"
      },
      "execution_count": 33,
      "outputs": [
        {
          "output_type": "display_data",
          "data": {
            "text/plain": [
              "<Figure size 432x288 with 2 Axes>"
            ],
            "image/png": "[encoded data removed]"
          },
          "metadata": {
            "needs_background": "light"
          }
        }
      ]
    },
    {
      "cell_type": "markdown",
      "source": [
        "**FINDING CONFUSION MATRIX USING PRETAINED WEIGHTS**"
      ],
      "metadata": {
        "id": "rrmfgUrZHmHT"
      }
    },
    {
      "cell_type": "code",
      "source": [
        "import itertools\n",
        "import numpy as np\n",
        "import matplotlib.pyplot as plt\n",
        "def plot_confusion_matrix(cm, title='Confusion matrix', cmap=plt.cm.Oranges):\n",
        "  plt.imshow(cm, interpolation='nearest', cmap=cmap)\n",
        "  plt.title(title)\n",
        "  plt.colorbar()\n",
        "  tick_marks = np.arange(cm.shape[1])\n",
        "  plt.xticks(tick_marks, rotation=45)\n",
        "  ax = plt.gca()\n",
        "  ax.set_xticklabels((ax.get_xticks() +1).astype(str))\n",
        "  plt.yticks(tick_marks)\n",
        "\n",
        "  thresh = cm.max() / 2.\n",
        "  for i, j in itertools.product(range(cm.shape[0]), range(cm.shape[1])):\n",
        "    plt.text(j, i, format(cm[i, j], '.1f'),\n",
        "             horizontalalignment=\"center\", \n",
        "             color=\"white\" if cm[i, j] > thresh else \"black\")\n",
        "  \n",
        "  plt.tight_layout()\n",
        "  plt.ylabel('True label')\n",
        "  plt.xlabel('Predicted label')\n",
        "\n",
        "predictions = model.predict(validation_set)\n",
        "predictions_labels = numpy.argmax(predictions, axis=1)\n",
        "validation_labels = numpy.argmax(validation_labels, axis=1)\n",
        "cfm = confusion_matrix(validation_labels, predictions_labels)\n",
        "\n",
        "np.set_printoptions(precision=1)\n",
        "print('Confusion matrix, without normalization')\n",
        "print(cfm)\n",
        "fig, ax = plt.subplots()\n",
        "plot_confusion_matrix(cfm)\n",
        "\n",
        "plt.show()"
      ],
      "metadata": {
        "id": "Jy-jFYbYHcLp",
        "colab": {
          "base_uri": "https://localhost:8080/",
          "height": 380
        },
        "outputId": "e330fc99-c1a7-4430-8102-eecb74e09db2"
      },
      "execution_count": 34,
      "outputs": [
        {
          "output_type": "stream",
          "name": "stdout",
          "text": [
            "Confusion matrix, without normalization\n",
            "[[2 2 2]\n",
            " [4 6 1]\n",
            " [2 1 0]]\n"
          ]
        },
        {
          "output_type": "display_data",
          "data": {
            "text/plain": [
              "<Figure size 432x288 with 2 Axes>"
            ],
            "image/png": "[encoded data removed]"
          },
          "metadata": {
            "needs_background": "light"
          }
        }
      ]
    },
    {
      "cell_type": "code",
      "source": [
        "#Summarize history for accuracy\n",
        "plt.plot(history.history['accuracy'])\n",
        "plt.plot(history.history['val_accuracy'])\n",
        "plt.title('Model Accuracy')\n",
        "plt.ylabel('Accuracy')\n",
        "plt.xlabel('Epoch')\n",
        "plt.legend(['training, validation'], loc='upper left')\n",
        "plt.show()"
      ],
      "metadata": {
        "id": "P0NaNvTXLIdw",
        "colab": {
          "base_uri": "https://localhost:8080/",
          "height": 295
        },
        "outputId": "2945838a-754f-48b3-ceae-46904dd187b3"
      },
      "execution_count": 35,
      "outputs": [
        {
          "output_type": "display_data",
          "data": {
            "text/plain": [
              "<Figure size 432x288 with 1 Axes>"
            ],
            "image/png": "[encoded data removed]"
          },
          "metadata": {
            "needs_background": "light"
          }
        }
      ]
    },
    {
      "cell_type": "code",
      "source": [
        "# Summarize history for loss\n",
        "plt.plot(history.history['loss'])\n",
        "plt.plot(history.history['val_loss'])\n",
        "plt.title('Model Loss')\n",
        "plt.ylabel('Loss')\n",
        "plt.xlabel('Epoch')\n",
        "plt.legend(['training', 'validation'], loc='upper left')\n",
        "plt.show()"
      ],
      "metadata": {
        "id": "ce0nyVOvLr43",
        "colab": {
          "base_uri": "https://localhost:8080/",
          "height": 295
        },
        "outputId": "51dd8d23-c148-431e-fd41-5bcea4874464"
      },
      "execution_count": 36,
      "outputs": [
        {
          "output_type": "display_data",
          "data": {
            "text/plain": [
              "<Figure size 432x288 with 1 Axes>"
            ],
            "image/png": "[encoded data removed]"
          },
          "metadata": {
            "needs_background": "light"
          }
        }
      ]
    },
    {
      "cell_type": "code",
      "source": [
        ""
      ],
      "metadata": {
        "id": "hXFKnoMO4ZWm"
      },
      "execution_count": null,
      "outputs": []
    }
  ]
}